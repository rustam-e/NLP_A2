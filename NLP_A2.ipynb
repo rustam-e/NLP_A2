{
 "cells": [
  {
   "cell_type": "code",
   "execution_count": 61,
   "metadata": {},
   "outputs": [],
   "source": [
    "import os\n",
    "import numpy as np\n",
    "import matplotlib.pyplot as plt\n",
    "\n",
    "os.makedirs('./results', exist_ok=True)\n",
    "\n",
    "with open('./brown_100.txt', 'r') as file_:\n",
    "    corpus = file_.read()\n",
    "\n",
    "def write_freqs(list_: list, filename: str) -> None:\n",
    "    with open(f'./results/{filename}.txt', 'w') as file_:\n",
    "        file_.write('\\n'.join([' '.join(x[0]) + ' | ' + str(x[1]) for x in list_]))"
   ]
  },
  {
   "cell_type": "markdown",
   "metadata": {},
   "source": [
    "## N-Gram Language Modeling\n",
    "In the second assignment, you will implement an **n-gram language model** that processes input text to generate, analyze, and calculate the probabilities of sequences of `n` words (n-grams). This model will tokenize text, create n-grams, and compute their frequencies and probabilities, returning the most frequent n-grams in the text.\n",
    "\n",
    "1. **Tokenization**: Convert the input text into a list of words (tokens).\n",
    "2. **N-gram Generation**: Create sequences of `n` tokens from the text, treating each sentence independently with the inclusion of start (`<s>`) and end (`</s>`) markers.\n",
    "3. **Frequency Counting**: Count how many times each n-gram appears in the text.\n",
    "4. **Probability Calculation**: Compute the probabilities of each n-gram based on its frequency and add alpha smoothing to improve generalization of items.\n",
    "5. **Most Frequent N-grams**: Return the most frequent n-grams along with their probabilities, helping to identify common patterns in the text."
   ]
  },
  {
   "cell_type": "code",
   "execution_count": 62,
   "metadata": {},
   "outputs": [
    {
     "name": "stdout",
     "output_type": "stream",
     "text": [
      "[(('This', 'is'), 1.0), (('is', 'a'), 1.0), (('a', 'simple'), 1.0), (('simple', 'example'), 1.0), (('example', 'to'), 1.0), (('to', 'demonstrate'), 1.0), (('demonstrate', 'how'), 1.0), (('how', 'n-grams'), 1.0), (('n-grams', 'work'), 1.0), (('work', 'in'), 1.0), (('in', 'this'), 1.0), (('this', 'assignment.'), 1.0)]\n"
     ]
    }
   ],
   "source": [
    "from collections import Counter, defaultdict # You may import more from collections if needed\n",
    "\n",
    "class NGramModel:\n",
    "    def __init__(self, text, n, alpha=0.0):\n",
    "        \"\"\"\n",
    "        Initialize the NGramModel with text and the value of n.\n",
    "        \"\"\"\n",
    "        self.text = text\n",
    "        self.n = n\n",
    "        self.alpha = alpha\n",
    "        self.ngrams = []         \n",
    "        self.frequencies = {}    \n",
    "        self.probabilities = {} \n",
    "        self.vocab = set()      \n",
    "\n",
    "    def tokenize(self) -> list:\n",
    "        \"\"\"\n",
    "        Tokenize the text into words.\n",
    "        Assumes input text lines ALREADY contain <s> and </s> markers.\n",
    "        \"\"\"\n",
    "        sentences = [line.strip() for line in self.text.strip().splitlines() if line.strip()]\n",
    "        tokenized_sentences = []\n",
    "        temp_vocab = set()\n",
    "\n",
    "        for sentence in sentences:\n",
    "            tokens = sentence.split()\n",
    "            if not tokens:\n",
    "                continue\n",
    "            tokenized_sentences.append(tokens)\n",
    "            temp_vocab.update(tokens)\n",
    "\n",
    "\n",
    "        self.vocab = temp_vocab\n",
    "\n",
    "        return tokenized_sentences\n",
    "\n",
    "    def generate_ngrams(self, tokenized_sentences: list) -> list:\n",
    "        \"\"\"\n",
    "        Generate n-grams from the list of tokens.\n",
    "        Assumes tokenized_sentences already contain <s> and </s> markers, so NO padding is added.\n",
    "        \"\"\"\n",
    "        ngrams_list = []\n",
    "        if self.n == 1:\n",
    "            for sentence_tokens in tokenized_sentences:\n",
    "                for token in sentence_tokens:\n",
    "                    if token != '<s>' and token != '</s>': \n",
    "                        ngrams_list.append(tuple([token]))\n",
    "        else:\n",
    "            for sentence_tokens in tokenized_sentences:\n",
    "                if len(sentence_tokens) >= self.n:\n",
    "                    for i in range(len(sentence_tokens) - self.n + 1):\n",
    "                        ngram = tuple(sentence_tokens[i:i + self.n])\n",
    "                        ngrams_list.append(ngram)\n",
    "\n",
    "        self.ngrams = ngrams_list\n",
    "        return self.ngrams\n",
    "\n",
    "    def count_frequencies(self) -> None:\n",
    "        \"\"\"\n",
    "        Count the frequencies of each n-gram.\n",
    "        Fill in the code to count n-gram occurrences.\n",
    "        \"\"\"\n",
    "        self.frequencies = Counter(self.ngrams)\n",
    "\n",
    "    def calculate_probabilities(self) -> None:\n",
    "        \"\"\"\n",
    "        Calculate probabilities of each n-gram based on its frequency. Add alpha smoothing separately.\n",
    "        \"\"\"\n",
    "        vocab_size = len(self.vocab)\n",
    "        if self.n == 1:\n",
    "\n",
    "            total_count = sum(self.frequencies.values())\n",
    "            vocab_size = len(self.vocab)\n",
    "            for unigram, count in self.frequencies.items():\n",
    "\n",
    "                denom = total_count + self.alpha * vocab_size\n",
    "                if denom == 0:\n",
    "                    self.probabilities[unigram] = 0.0 \n",
    "                else:\n",
    "                    prob = (count + self.alpha) / denom\n",
    "                    self.probabilities[unigram] = prob\n",
    "        else:\n",
    "            prefix_counts = defaultdict(int)\n",
    "\n",
    "            for ngram, count in self.frequencies.items():\n",
    "                prefix = ngram[:-1]\n",
    "                prefix_counts[prefix] += count\n",
    "            for ngram, count in self.frequencies.items():\n",
    "                prefix = ngram[:-1]\n",
    "                prefix_count = prefix_counts[prefix]\n",
    "\n",
    "                denom = prefix_count + self.alpha * vocab_size\n",
    "                if denom == 0: \n",
    "                     self.probabilities[ngram] = 0.0\n",
    "                else:\n",
    "                    self.probabilities[ngram] = (count + self.alpha) / denom\n",
    "\n",
    "\n",
    "    def most_frequent_ngrams(self, top_n: int = 10) -> list:\n",
    "        \"\"\"\n",
    "        Return the most frequent n-grams and their probabilities.\n",
    "        \"\"\"\n",
    "        sorted_ngrams = sorted(self.frequencies.items(), key=lambda x: x[1], reverse=True)\n",
    "        top_list = []\n",
    "        for ngram, freq in sorted_ngrams[:top_n]:\n",
    "            prob = self.probabilities.get(ngram, 0)\n",
    "            top_list.append((ngram, prob))\n",
    "        return top_list\n",
    "\n",
    "# Testing the model with an example\n",
    "text = \"This is a simple example to demonstrate how n-grams work in this assignment.\" #Faster than running the full corpus\n",
    "n = 2  # You can change this to 1, 2, or 3 for uni, bi, or trigrams\n",
    "model = NGramModel(text, n)\n",
    "\n",
    "tokens = model.tokenize()\n",
    "ngrams = model.generate_ngrams(tokens)\n",
    "model.count_frequencies()\n",
    "model.calculate_probabilities()\n",
    "\n",
    "# Print the most frequent n-grams\n",
    "print(model.most_frequent_ngrams(30))"
   ]
  },
  {
   "cell_type": "markdown",
   "metadata": {},
   "source": [
    "### Unigrams\n",
    "\n",
    "In this section, we apply the `NGramModel` to our corpus. The model can be configured to generate unigrams, bigrams, or trigrams by adjusting the value of `n`. After tokenizing the text and generating the n-grams, the model counts the occurrences of each n-gram and calculates their probabilities. The most frequent n-grams are then written to an output file.\n",
    "\n",
    "By adjusting the n-gram size, we can analyze different levels of word dependencies in the text, providing insights into common word sequences and patterns.  \n",
    "\n",
    "The code below will generate unigrams when the NGramModel is implemented correctly"
   ]
  },
  {
   "cell_type": "code",
   "execution_count": 63,
   "metadata": {},
   "outputs": [],
   "source": [
    "n = 1  # You can change this to 1, 2, or 3 for uni, bi, or trigrams\n",
    "model = NGramModel(corpus, n)\n",
    "\n",
    "tokens = model.tokenize()\n",
    "ngrams = model.generate_ngrams(tokens)\n",
    "model.count_frequencies()\n",
    "model.calculate_probabilities()\n",
    "\n",
    "write_freqs(model.most_frequent_ngrams(30), 'unigrams')"
   ]
  },
  {
   "cell_type": "markdown",
   "metadata": {},
   "source": [
    "### Bigrams\n",
    "Bigrams allow us to explore word pairs and their relationships, providing insight into common word combinations and phrase structures within the corpus.  \n",
    "The code below will generate bigrams when the NGramModel is implemented correctly."
   ]
  },
  {
   "cell_type": "code",
   "execution_count": 64,
   "metadata": {},
   "outputs": [],
   "source": [
    "n = 2  # You can change this to 1, 2, or 3 for uni, bi, or trigrams\n",
    "model = NGramModel(corpus, n)\n",
    "\n",
    "tokens = model.tokenize()\n",
    "ngrams = model.generate_ngrams(tokens)\n",
    "model.count_frequencies()\n",
    "model.calculate_probabilities()\n",
    "\n",
    "write_freqs(model.most_frequent_ngrams(30), 'bigrams')"
   ]
  },
  {
   "cell_type": "markdown",
   "metadata": {},
   "source": [
    "### Trigrams\n",
    "Trigrams capture three-word sequences, providing a deeper understanding of longer word dependencies and commonly occurring phrases within the text.  \n",
    "The code below will generate trigrams when the NGramModel is implemented correctly"
   ]
  },
  {
   "cell_type": "code",
   "execution_count": 65,
   "metadata": {},
   "outputs": [],
   "source": [
    "n = 3  # You can change this to 1, 2, or 3 for uni, bi, or trigrams\n",
    "model = NGramModel(corpus, n)\n",
    "\n",
    "tokens = model.tokenize()\n",
    "ngrams = model.generate_ngrams(tokens)\n",
    "model.count_frequencies()\n",
    "model.calculate_probabilities()\n",
    "\n",
    "write_freqs(model.most_frequent_ngrams(30), 'trigrams')"
   ]
  },
  {
   "cell_type": "markdown",
   "metadata": {},
   "source": [
    "### Smoothing\n",
    "Below, we generate **bigrams** with **smoothing** applied by setting `n = 2` and including a smoothing parameter `alpha = 1.0`. Smoothing is useful in language models to handle unseen n-grams by assigning a small probability to them. The model tokenizes the text, generates bigrams, counts their frequencies, and calculates smoothed probabilities. The most frequent bigrams are then written to an output file.\n",
    "\n",
    "\n",
    "\n"
   ]
  },
  {
   "cell_type": "code",
   "execution_count": 66,
   "metadata": {},
   "outputs": [],
   "source": [
    "n = 2  # You can change this to 1, 2, or 3 for uni, bi, or trigrams\n",
    "model = NGramModel(corpus, n, alpha=1.0)\n",
    "\n",
    "tokens = model.tokenize()\n",
    "ngrams = model.generate_ngrams(tokens)\n",
    "model.count_frequencies()\n",
    "model.calculate_probabilities()\n",
    "\n",
    "write_freqs(model.most_frequent_ngrams(30), 'bigrams_smoothed')"
   ]
  },
  {
   "cell_type": "markdown",
   "metadata": {},
   "source": [
    "### Generating Text\n",
    "In this example, we generate text using the **bigrams** model by providing a starting **prompt** (e.g., \"the jury\"). The `generate_text` function creates a sequence of words based on the trained bigram model, starting from the provided prompt and continuing based on the probabilities of the next words.\n",
    "\n",
    "After tokenizing the corpus, generating bigrams, and calculating their frequencies and probabilities, the model uses these learned probabilities to generate text. The generated output is then written to a file.\n",
    "\n",
    "Text generation with n-grams helps illustrate how language models can predict word sequences, allowing us to create new sentences that follow similar patterns found in the original text."
   ]
  },
  {
   "cell_type": "code",
   "execution_count": 67,
   "metadata": {},
   "outputs": [
    {
     "name": "stdout",
     "output_type": "stream",
     "text": [
      "['the', 'jury', 'recommended', '``', 'are', 'getting', 'strong', 'encouragement', 'to', 'place', 'names', 'of', 'the', 'State', 'Welfare', 'Department', '.', '</s>']\n"
     ]
    }
   ],
   "source": [
    "import random\n",
    "random.seed(1)\n",
    "\n",
    "def generate_text(model: NGramModel, n: int, prompt: str) -> str:\n",
    "    generated: List[str] = prompt.split()   \n",
    "    next_token = ''\n",
    "    while next_token != '</s>':                 \n",
    "        context = (generated[-1],) \n",
    "        candidates = [(ngram[-1], model.probabilities[ngram])\n",
    "                      for ngram in model.probabilities\n",
    "                      if ngram[:-1] == context]\n",
    "        if not candidates:                         \n",
    "            raise ValueError(\"No valid candidates found for prompt\" )         \n",
    "        \n",
    "        sorted_candidates = sorted(candidates, key=lambda x: x[1], reverse=True)\n",
    "        top_n = 5 # top n candidates\n",
    "        # if using the highest probability of the ngram, top_n = 1\n",
    "        # the outcome will be ended with only 3 words as 'the jusy said. </s>\"\n",
    "\n",
    "        top_candidates = sorted_candidates[:top_n]\n",
    "        top_tokens = [candidate[0] for candidate in top_candidates]\n",
    "        next_token = random.choice(top_tokens)\n",
    "\n",
    "        generated.append(next_token)\n",
    "\n",
    "    print(generated)\n",
    "    return str(generated)\n",
    "\n",
    "\n",
    "n = 2  \n",
    "model = NGramModel(corpus, n,alpha=1.0)\n",
    "\n",
    "tokens = model.tokenize()\n",
    "ngrams = model.generate_ngrams(tokens)\n",
    "model.count_frequencies()\n",
    "model.calculate_probabilities()\n",
    "generated_text = generate_text(model, 2, 'the jury')\n",
    "with open(f'./results/generated_bigrams.txt', 'w') as file_:\n",
    "    file_.write(generated_text)\n",
    "    "
   ]
  },
  {
   "cell_type": "markdown",
   "metadata": {},
   "source": [
    "## Word Vectors\n",
    "Based on the Stanford course: https://web.stanford.edu/class/cs224n/"
   ]
  },
  {
   "cell_type": "markdown",
   "metadata": {},
   "source": [
    "### Count based W2V\n",
    "In this section, we use the previously trained **n-gram model** to calculate a **co-occurrence matrix**. A co-occurrence matrix shows how often words appear together within a specific context (in this case, bigrams), providing insights into word relationships in the corpus.\n",
    "\n",
    "Steps:\n",
    "1. **Tokenization and N-gram Generation**: We first tokenize the text and generate bigrams using the `NGramModel`.\n",
    "2. **Vocabulary and Indexing**: The vocabulary is created from the unique tokens, and a word-to-index mapping is established.\n",
    "3. **Co-occurrence Matrix**: Using the generated n-grams, we compute the co-occurrence matrix, where each entry represents how often two words occur together within the bigrams.\n",
    "\n",
    "The co-occurrence matrix provides a numerical representation of word relationships, which is useful for tasks like word embeddings, semantic analysis, and understanding word associations."
   ]
  },
  {
   "cell_type": "code",
   "execution_count": 68,
   "metadata": {},
   "outputs": [
    {
     "name": "stdout",
     "output_type": "stream",
     "text": [
      "{'<s>': 2443, 'The': 2294, 'Fulton': 845, 'County': 2164, 'Grand': 4, 'Jury': 5, 'said': 2424, 'Friday': 2049, 'an': 2395, 'investigation': 9, 'of': 2463, \"Atlanta's\": 636, 'recent': 12, 'primary': 1323, 'election': 2397, 'produced': 15, '``': 2451, 'no': 1873, 'evidence': 18, \"''\": 2454, 'that': 2374, 'any': 21, 'irregularities': 2378, 'took': 370, 'place': 1304, '.': 2466, '</s>': 2467, 'jury': 793, 'further': 30, 'in': 2318, 'term-end': 33, 'presentments': 34, 'the': 2460, 'City': 279, 'Executive': 2166, 'Committee': 2445, ',': 2440, 'which': 2042, 'had': 1367, 'over-all': 43, 'charge': 651, 'deserves': 50, 'praise': 52, 'and': 2393, 'thanks': 54, 'Atlanta': 1001, 'for': 1963, 'manner': 660, 'was': 2356, 'conducted': 69, 'September-October': 74, 'term': 1233, 'been': 1725, 'charged': 854, 'by': 2279, 'Superior': 846, 'Court': 847, 'Judge': 84, 'Durwood': 85, 'Pye': 86, 'to': 2389, 'investigate': 88, 'reports': 117, 'possible': 91, 'hard-fought': 97, 'won': 101, 'Mayor-nominate': 103, 'Ivan': 1048, 'Allen': 1049, 'Jr.': 1050, 'Only': 111, 'a': 2431, 'relative': 113, 'handful': 114, 'such': 1969, 'received': 2342, 'considering': 127, 'widespread': 129, 'interest': 238, 'number': 1462, 'voters': 1893, 'size': 141, 'this': 2132, 'city': 1024, 'it': 2121, 'did': 672, 'find': 154, 'many': 156, \"Georgia's\": 2027, 'registration': 159, 'laws': 185, 'are': 1997, 'outmoded': 165, 'or': 1799, 'inadequate': 167, 'often': 169, 'ambiguous': 170, 'It': 2276, 'recommended': 716, 'legislators': 1902, 'act': 2455, 'have': 2252, 'these': 495, 'studied': 186, 'revised': 188, 'end': 191, 'modernizing': 193, 'improving': 195, 'them': 213, 'grand': 585, 'commented': 528, 'on': 1905, 'other': 711, 'topics': 210, 'among': 212, 'purchasing': 219, 'departments': 430, 'well': 226, 'operated': 657, 'follow': 1442, 'generally': 230, 'accepted': 231, 'practices': 689, 'inure': 234, 'best': 237, 'both': 2334, 'governments': 241, 'Merger': 246, 'proposed': 1702, 'However': 250, 'believes': 256, 'two': 1275, 'offices': 260, 'should': 2081, 'be': 2377, 'combined': 263, 'achieve': 265, 'greater': 266, 'efficiency': 267, 'reduce': 269, 'cost': 271, 'administration': 796, 'Purchasing': 280, 'Department': 1713, 'is': 2142, 'lacking': 289, 'experienced': 291, 'clerical': 292, 'personnel': 299, 'as': 2117, 'result': 296, 'policies': 300, 'urged': 338, 'take': 1183, 'steps': 312, 'remedy': 314, 'problem': 317, 'Implementation': 321, 'automobile': 324, 'title': 325, 'law': 1263, 'also': 1607, 'outgoing': 332, 'next': 341, 'Legislature': 1910, 'provide': 2068, 'enabling': 771, 'funds': 2073, 're-set': 348, 'effective': 350, 'date': 351, 'so': 2269, 'orderly': 2396, 'implementation': 356, 'may': 360, 'effected': 362, 'swipe': 372, 'at': 2379, 'State': 2077, 'Welfare': 417, \"Department's\": 377, 'handling': 378, 'federal': 2072, 'granted': 382, 'child': 384, 'welfare': 429, 'services': 386, 'foster': 388, 'homes': 389, 'This': 2207, 'one': 1273, 'major': 399, 'items': 400, 'general': 1310, 'assistance': 406, 'program': 469, 'but': 676, 'has': 2109, 'seen': 421, 'fit': 422, 'distribute': 424, 'through': 1846, 'all': 432, 'counties': 474, 'state': 1977, 'with': 2321, 'exception': 1004, 'receives': 446, 'none': 2025, 'money': 1438, 'jurors': 501, 'they': 1494, 'realize': 458, 'proportionate': 461, 'distribution': 462, 'might': 466, 'disable': 467, 'our': 2001, 'less': 472, 'populous': 473, 'Nevertheless': 479, 'we': 2250, 'feel': 483, 'future': 1909, 'receive': 491, 'some': 1998, 'portion': 1662, 'available': 496, 'Failure': 507, 'do': 509, 'will': 2051, 'continue': 512, 'disproportionate': 516, 'burden': 517, 'taxpayers': 521, \"ordinary's\": 532, 'court': 571, 'under': 1652, 'fire': 538, 'its': 1423, 'appointment': 544, 'appraisers': 546, 'guardians': 548, 'administrators': 550, 'awarding': 553, 'fees': 555, 'compensation': 557, 'Wards': 561, 'protected': 562, 'found': 569, 'incorporated': 574, 'into': 2045, 'operating': 577, 'procedures': 578, 'recommendations': 580, 'previous': 584, 'juries': 586, 'Bar': 590, 'Association': 591, 'interim': 594, 'citizens': 2372, 'committee': 596, 'These': 601, 'actions': 602, 'serve': 604, 'protect': 606, 'fact': 608, 'effect': 611, \"court's\": 613, 'wards': 614, 'from': 1118, 'undue': 616, 'costs': 617, 'appointed': 620, 'elected': 2115, 'servants': 623, 'unmeritorious': 625, 'criticisms': 626, 'Regarding': 635, 'new': 2139, 'multi-million-dollar': 638, 'airport': 655, 'when': 646, 'management': 649, 'takes': 650, 'Jan.': 1038, '1': 1282, 'eliminate': 663, 'political': 1016, 'influences': 665, 'not': 2268, 'elaborate': 674, 'added': 2023, 'there': 2375, 'periodic': 684, 'surveillance': 685, 'pricing': 688, 'concessionaires': 692, 'purpose': 695, 'keeping': 697, 'prices': 699, 'reasonable': 700, 'Ask': 705, 'jail': 752, 'deputies': 726, 'On': 710, 'matters': 712, ':': 1281, '(': 2012, ')': 2015, 'Four': 724, 'additional': 1698, 'employed': 744, 'Jail': 733, 'doctor': 737, 'medical': 739, 'intern': 740, 'extern': 742, 'night': 1869, 'weekend': 748, 'duty': 749, '2': 1315, 'work': 1630, 'officials': 768, 'pass': 770, 'legislation': 772, 'permit': 2388, 'establishment': 777, 'fair': 780, 'equitable': 782, 'pension': 784, 'plan': 1610, 'employes': 788, 'praised': 794, 'operation': 798, 'Police': 802, 'Tax': 807, \"Commissioner's\": 808, 'Office': 809, 'Bellwood': 812, 'Alpharetta': 814, 'prison': 815, 'farms': 816, 'Grady': 818, 'Hospital': 819, 'Health': 823, 'Mayor': 1062, 'William': 876, 'B.': 1744, 'Hartsfield': 1063, 'filed': 832, 'suit': 1569, 'divorce': 835, 'his': 2410, 'wife': 959, 'Pearl': 840, 'Williams': 2384, 'His': 1015, 'petition': 988, 'mental': 855, 'cruelty': 856, 'couple': 951, 'married': 863, 'Aug.': 864, '1913': 867, 'They': 871, 'son': 874, 'Berry': 877, 'daughter': 882, 'Mrs.': 884, 'J.': 885, 'M.': 886, 'Cheshire': 887, 'Griffin': 1707, 'Attorneys': 893, 'mayor': 999, 'amicable': 900, 'property': 2453, 'settlement': 902, 'agreed': 905, 'upon': 906, 'listed': 985, \"mayor's\": 1032, 'occupation': 915, 'attorney': 992, 'age': 932, '71': 924, \"wife's\": 931, '74': 934, 'birth': 938, 'Opelika': 940, 'Ala.': 942, 'lived': 954, 'together': 955, 'man': 957, 'more': 1391, 'than': 1392, 'year': 1989, 'home': 1430, '637': 973, 'E.': 974, 'Pelham': 1888, 'Rd.': 976, 'Aj': 977, 'Henry': 981, 'L.': 982, 'Bowden': 983, 'brief': 1007, 'interlude': 1008, 'since': 1010, '1937': 1011, 'career': 1017, 'goes': 1018, 'back': 1927, 'council': 1025, '1923': 1027, 'present': 1033, 'office': 1036, 'expires': 1037, 'He': 1376, 'succeeded': 1379, 'who': 2151, 'became': 1053, 'candidate': 1211, 'Sept.': 1143, '13': 1059, 'after': 2362, 'announced': 1064, 'he': 2363, 'would': 2376, 'run': 1069, 'reelection': 1071, 'Georgia': 1923, 'Republicans': 1319, 'getting': 1078, 'strong': 1079, 'encouragement': 1080, 'enter': 1209, '1962': 1087, \"governor's\": 1088, 'race': 1679, 'top': 1092, 'official': 1093, 'Wednesday': 1095, 'Robert': 1099, 'Snodgrass': 1100, 'GOP': 1103, 'chairman': 2160, 'meeting': 1167, 'held': 1142, 'Tuesday': 1353, 'Blue': 1165, 'Ridge': 1166, 'brought': 1115, 'enthusiastic': 1116, 'responses': 1117, 'audience': 1170, 'Party': 1125, 'Chairman': 1126, 'James': 1127, 'W.': 1128, 'Dorsey': 1129, 'enthusiasm': 1132, 'picking': 1134, 'up': 1422, 'rally': 1139, '8': 1144, 'Savannah': 1146, 'newly': 1149, 'Texas': 2464, 'Sen.': 1152, 'John': 1153, 'Tower': 1154, 'featured': 1158, 'speaker': 1159, 'In': 1163, 'warned': 1172, 'entering': 1174, 'governor': 1681, 'force': 1180, 'petitions': 1296, 'out': 1890, 'voting': 1763, 'precincts': 1188, 'obtain': 1190, 'signatures': 1192, 'registered': 1194, 'Despite': 1199, 'warning': 1201, 'unanimous': 1206, 'vote': 1904, 'according': 1213, 'attended': 1217, 'When': 1398, 'crowd': 1223, 'asked': 2030, 'whether': 1800, 'wanted': 1228, 'wait': 1230, 'make': 1644, 'voted': 1845, '--': 2444, 'were': 1824, 'dissents': 1247, 'largest': 1252, 'hurdle': 1253, 'face': 1259, 'says': 2060, 'before': 1267, 'making': 1268, 'first': 1805, 'alternative': 1276, 'courses': 1277, 'must': 1320, 'taken': 1280, 'Five': 1285, 'per': 1767, 'cent': 1287, 'each': 1292, 'county': 2323, 'sign': 1295, 'requesting': 1297, 'allowed': 1302, 'names': 1305, 'candidates': 2335, 'ballot': 1312, 'hold': 1321, 'unit': 1327, 'system': 1331, 'party': 1334, 'opposes': 1335, 'platform': 1338, 'Sam': 1342, 'Caldwell': 1404, 'Highway': 1712, 'public': 1964, 'relations': 1349, 'director': 1350, 'resigned': 2315, 'Lt.': 1357, 'Gov.': 2448, 'Garland': 1359, \"Byrd's\": 1360, 'campaign': 2332, \"Caldwell's\": 1365, 'resignation': 1366, 'expected': 1484, 'time': 1660, 'Rob': 1381, 'Ledford': 1382, 'Gainesville': 1384, 'assistant': 1390, 'three': 1393, 'years': 1394, 'gubernatorial': 1400, 'starts': 1402, 'become': 1408, 'coordinator': 1411, 'Byrd': 1413, 'wind': 1421, '1961': 1424, 'session': 1515, 'Monday': 2055, 'head': 1428, 'where': 1432, 'highway': 1550, 'bond': 1557, 'approved': 1511, 'shortly': 1443, 'Before': 1447, 'adjournment': 1497, 'afternoon': 1450, 'Senate': 1857, 'approve': 1457, 'study': 1459, 'allotted': 1465, 'rural': 1735, 'urban': 1469, 'areas': 1470, 'determine': 1472, 'what': 1473, 'adjustments': 1474, 'made': 2408, 'Vandiver': 1722, 'traditional': 1488, 'visit': 1489, 'chambers': 1492, 'toward': 1496, 'likely': 1502, 'mention': 1504, '$100': 1506, 'million': 1695, 'issue': 1732, 'earlier': 1512, 'priority': 2087, 'item': 1520, 'Construction': 1524, 'bonds': 1737, 'Meanwhile': 1528, 'learned': 1532, 'very': 1538, 'near': 1539, 'being': 2235, 'ready': 1541, '$30': 1546, 'worth': 1696, 'reconstruction': 1551, 'go': 1560, 'courts': 1564, 'friendly': 1567, 'test': 1571, 'validity': 1573, 'then': 1704, 'sales': 1581, 'begin': 1583, 'contracts': 1585, 'let': 1586, 'repair': 1588, 'most': 1594, 'heavily': 1595, 'traveled': 1596, 'highways': 1597, 'A': 1915, 'source': 1714, '$3': 1615, '$4': 1618, 'Rural': 1646, 'Roads': 1647, 'Authority': 1648, 'road': 1628, 'construction': 1629, 'revolving': 1650, 'fund': 1651, 'department': 1640, 'apparently': 2407, 'intends': 1642, 'issued': 1658, 'every': 1659, 'old': 1665, 'ones': 1666, 'paid': 1668, 'off': 1669, 'tax': 1671, 'authorities': 1672, 'opened': 1677, '1958': 1683, 'battle': 1686, 'against': 1690, 'issuance': 1692, '$50': 1694, 'roads': 1736, 'Marvin': 1706, 'told': 1715, 'Constitution': 1717, 'however': 2272, 'consulted': 1726, 'yet': 1727, 'about': 1728, 'plans': 1730, 'Schley': 1741, 'Rep.': 1944, 'D.': 1745, 'offer': 2033, 'resolution': 2040, 'House': 2047, 'rescind': 1882, \"body's\": 1758, 'action': 1884, 'itself': 1764, '$10': 1766, 'day': 1768, 'increase': 2070, 'expense': 1771, 'allowances': 1772, 'Sunday': 1868, 'research': 1782, 'done': 1784, 'quickie': 1789, 'can': 1795, 'repealed': 1797, 'outright': 1798, 'notice': 1801, 'given': 1807, 'reconsideration': 1809, 'sought': 1815, 'While': 1819, 'emphasizing': 1820, 'technical': 1822, 'details': 1823, 'fully': 1826, 'worked': 1827, 'seek': 1835, 'set': 1837, 'aside': 1838, 'privilege': 1955, '87-31': 1847, 'similar': 1852, 'passed': 2016, '29-5': 1862, 'As': 1866, 'word': 1874, 'offered': 1879, 'pointed': 1889, 'last': 1894, 'November': 1895, 'rejected': 1896, 'constitutional': 1898, 'amendment': 1899, 'allow': 1901, 'pay': 2091, 'raises': 2092, 'sessions': 1911, 'veteran': 2147, 'Jackson': 1917, 'legislator': 1992, 'ask': 1921, 'aid': 1929, 'education': 1965, 'something': 1933, 'consistently': 1936, 'opposed': 1937, 'past': 1940, 'Mac': 1945, 'Barber': 2043, 'Commerce': 1948, 'asking': 1950, 'endorse': 1959, 'increased': 1960, 'support': 1962, 'provided': 1967, 'expended': 1974, '13th': 1988, 'members': 1999, 'congressional': 2002, 'delegation': 2003, 'Washington': 2005, 'like': 2234, 'see': 2010, 'But': 2021, 'congressmen': 2028, 'specifically': 2029, 'him': 2031, 'tossed': 2044, 'hopper': 2048, 'formally': 2053, 'read': 2054, 'event': 2065, 'Congress': 2066, 'does': 2067, 'Board': 2078, 'Education': 2080, 'directed': 2083, 'give': 2086, 'teacher': 2149, 'Colquitt': 2219, 'After': 2100, 'long': 2102, 'hot': 2104, 'controversy': 2280, 'Miller': 2163, 'school': 2324, 'superintendent': 2298, 'policeman': 2119, 'put': 2120, 'coolest': 2210, 'I': 2241, 'ever': 2215, 'saw': 2216, 'Harry': 2143, 'Davis': 2337, 'agriculture': 2148, 'defeated': 2152, 'Felix': 2402, 'Bush': 2339, 'principal': 2158, 'Democratic': 2165, '1,119': 2173, 'votes': 2174, \"Saturday's\": 2176, 'got': 2385, '402': 2182, 'Ordinary': 2349, 'Carey': 2187, 'armed': 2190, 'pistol': 2193, 'stood': 2195, 'polls': 2381, 'insure': 2201, 'order': 2202, 'calmest': 2212, 'Policeman': 2220, 'Tom': 2221, 'Being': 2228, 'just': 2233, 'church': 2237, \"didn't\": 2251, 'smell': 2243, 'drop': 2245, 'liquor': 2247, 'bit': 2432, 'trouble': 2434, 'leading': 2263, 'quiet': 2270, 'marked': 2278, 'anonymous': 2359, 'midnight': 2283, 'phone': 2284, 'calls': 2360, 'veiled': 2287, 'threats': 2288, 'violence': 2290, 'former': 2295, 'George': 2300, 'P.': 2301, 'Callan': 2302, 'shot': 2304, 'himself': 2386, 'death': 2307, 'March': 2308, '18': 2309, 'four': 2311, 'days': 2312, 'post': 2317, 'dispute': 2320, 'board': 2325, 'During': 2329, 'reportedly': 2341, 'telephone': 2344, 'too': 2354, 'subjected': 2357, 'soon': 2361, 'scheduled': 2364, 'Many': 2370, 'local': 2371, 'feared': 2373, 'carry': 2390, 'gun': 2392, 'promised': 2394, 'Sheriff': 2401, 'Tabb': 2403, 'ordinary': 2406, 'good': 2409, 'promise': 2411, 'Everything': 2416, 'went': 2417, 'real': 2418, 'smooth': 2419, 'sheriff': 2423, 'There': 2429, \"wasn't\": 2430, 'Austin': 2439, 'approval': 2446, 'Price': 2449, \"Daniel's\": 2450, 'abandoned': 2452, 'seemed': 2456, 'certain': 2457, 'Thursday': 2458, 'despite': 2459, 'adamant': 2461, 'protests': 2462, 'bankers': 2465}\n",
      "[[ 0  0  0 ...  0  0  0]\n",
      " [ 0  0  0 ...  0  0  0]\n",
      " [ 0  0  0 ...  0  0  0]\n",
      " ...\n",
      " [ 0  0  0 ...  0  1  0]\n",
      " [ 0  0  0 ...  1  0 89]\n",
      " [ 0  0  0 ...  0 89  0]]\n"
     ]
    }
   ],
   "source": [
    "# Since we already have a working ngram model, for the next part we can use the ngrams to calculate the co-occurences.\n",
    "model = NGramModel(corpus, 2)\n",
    "tokens = model.tokenize()\n",
    "ngrams = model.generate_ngrams(tokens)\n",
    "\n",
    "def create_co_matrix(ngrams: list, vocab_size: int, word_to_index: dict) -> np.ndarray:\n",
    "    co_matrix = np.zeros((vocab_size, vocab_size), dtype=np.int32)\n",
    "\n",
    "    # Iterate through each n-gram\n",
    "    for ngram in ngrams:\n",
    "        # Iterate through all pairs of words in the n-gram\n",
    "        for i in range(len(ngram)):\n",
    "            for j in range(len(ngram)):\n",
    "                if i != j:  # Avoid self-co-occurrence\n",
    "                    word_i = ngram[i]\n",
    "                    word_j = ngram[j]\n",
    "                    if word_i in word_to_index and word_j in word_to_index:\n",
    "                        idx_i = word_to_index[word_i]\n",
    "                        idx_j = word_to_index[word_j]\n",
    "                        co_matrix[idx_i][idx_j] += 1\n",
    "\n",
    "    return co_matrix\n",
    "\n",
    "flattened_list = [item for sublist in tokens for item in sublist]\n",
    "vocab = list(flattened_list)\n",
    "vocab_size = len(vocab)\n",
    "\n",
    "# Create a word-to-index mapping\n",
    "word_to_index = {word: idx for idx, word in enumerate(vocab)}\n",
    "print(word_to_index)\n",
    "\n",
    "# Generate the co-occurrence matrix\n",
    "co_matrix = create_co_matrix(ngrams, vocab_size, word_to_index)\n",
    "\n",
    "# Optionally, print the matrix or parts of it\n",
    "# print(co_matrix.value_counts())\n",
    "print(co_matrix)"
   ]
  },
  {
   "cell_type": "markdown",
   "metadata": {},
   "source": [
    "With the code below you can verify if the co-occurence works"
   ]
  },
  {
   "cell_type": "code",
   "execution_count": 69,
   "metadata": {},
   "outputs": [
    {
     "name": "stdout",
     "output_type": "stream",
     "text": [
      "Co-occurrence count for 'the' and 'jury': 7\n",
      "One or both words 'the' and 'cat' are not in the vocabulary.\n"
     ]
    }
   ],
   "source": [
    "def check_co_occurrence(word1, word2, co_matrix, word_to_index):\n",
    "    \"\"\"\n",
    "    Print the co-occurrence count for a specific word pair.\n",
    "    \"\"\"\n",
    "    if word1 not in word_to_index or word2 not in word_to_index:\n",
    "        print(f\"One or both words '{word1}' and '{word2}' are not in the vocabulary.\")\n",
    "        return\n",
    "\n",
    "    index1 = word_to_index[word1]\n",
    "    index2 = word_to_index[word2]\n",
    "\n",
    "    co_count = co_matrix[index1][index2]\n",
    "    print(f\"Co-occurrence count for '{word1}' and '{word2}': {co_count}\")\n",
    "\n",
    "check_co_occurrence('the', 'jury', co_matrix, word_to_index)\n",
    "check_co_occurrence('the', 'cat', co_matrix, word_to_index)"
   ]
  },
  {
   "cell_type": "markdown",
   "metadata": {},
   "source": [
    "In this part, we reduce the dimensionality of the **co-occurrence matrix** using **Singular Value Decomposition (SVD)**. This technique helps in extracting the most important features from the matrix, making it easier to visualize and interpret the relationships between words.\n",
    "\n",
    "Steps:\n",
    "1. **Singular Value Decomposition (SVD)**: The co-occurrence matrix is decomposed into three matrices: \\( M = U \\cdot \\Sigma \\cdot V^T \\).\n",
    "2. **Dimensionality Reduction**: We retain only the top `k` components (default is 2) from the SVD, effectively reducing the dimensionality of the matrix.\n",
    "3. **Reduced Matrix**: The reduced matrix retains the most important semantic information and can be used for tasks such as **word embedding visualization** or **semantic similarity analysis**.\n",
    "\n",
    "Dimensionality reduction allows us to capture the essence of word relationships in fewer dimensions, making it more efficient to process and visualize the data."
   ]
  },
  {
   "cell_type": "code",
   "execution_count": 70,
   "metadata": {},
   "outputs": [],
   "source": [
    "def reduce_to_k_dim(M, k=2):\n",
    "    # Perform Singular Value Decomposition\n",
    "    U, S, Vt = np.linalg.svd(M, full_matrices=False)\n",
    "    \n",
    "    # Reduce to k dimensions by selecting the top-k singular values and vectors\n",
    "    U_k = U[:, :k]  # Top-k left singular vectors\n",
    "    S_k = np.diag(S[:k])  # Top-k singular values as a diagonal matrix\n",
    "    \n",
    "    # Compute the reduced matrix\n",
    "    M_reduced = np.dot(U_k, S_k)\n",
    "    \n",
    "    return M_reduced"
   ]
  },
  {
   "cell_type": "markdown",
   "metadata": {},
   "source": [
    "In this final part, we visualize the reduced word embeddings in **2D space**. After reducing the dimensionality of the co-occurrence matrix using SVD, we plot the embeddings for each word to observe their relationships in a low-dimensional space.\n",
    "\n",
    "Steps:\n",
    "1. **Plotting the Embeddings**: Each word from the vocabulary is plotted based on its 2D coordinates from the reduced matrix.\n",
    "2. **Visualization**: The scatter plot allows us to see how words cluster together or relate to each other based on co-occurrences in the text. Words with similar contexts should appear closer to each other in the plot.\n",
    "3. **Interpretation**: By looking at the 2D plot, we can analyze word similarities, relationships, and clusters formed by words that often occur together.\n",
    "\n",
    "This visualization is a useful tool for understanding the structure of word embeddings and the relationships between words in the corpus.\n",
    "\n",
    "\n",
    "\n",
    "\n",
    "\n"
   ]
  },
  {
   "cell_type": "code",
   "execution_count": 75,
   "metadata": {},
   "outputs": [
    {
     "name": "stdout",
     "output_type": "stream",
     "text": [
      "['the', 'jury', 'automobile', 'actions', 'good', 'should', 'serve', 'city', 'officials']\n"
     ]
    },
    {
     "data": {
      "image/png": "[encoded data removed]",
      "text/plain": [
       "<Figure size 720x720 with 1 Axes>"
      ]
     },
     "metadata": {
      "needs_background": "light"
     },
     "output_type": "display_data"
    }
   ],
   "source": [
    "# def plot_embeddings(m_reduced, vocab, words=None):\n",
    "#     plt.figure(figsize=(10, 10))\n",
    "    \n",
    "#     for i, word in enumerate(vocab):\n",
    "#         x, y = m_reduced[i, 0], m_reduced[i, 1]\n",
    "#         plt.scatter(x, y, color='blue', alpha=0.6)\n",
    "#         if words is None or word in words:\n",
    "#             plt.text(x + 0.02, y + 0.02, word, fontsize=9)\n",
    "    \n",
    "#     plt.title(\"Word Embeddings in 2D Space\")\n",
    "#     plt.xlabel(\"Dimension 1\")\n",
    "#     plt.ylabel(\"Dimension 2\")\n",
    "#     plt.grid(True)\n",
    "#     plt.show()\n",
    "    \n",
    "# words = ['movie', 'book', 'mysterious', 'story', 'fascinating', 'good', 'interesting', 'large', 'massive', 'huge']\n",
    "\n",
    "# m_reduced = reduce_to_k_dim(co_matrix, k=2)\n",
    "\n",
    "# plot_embeddings(m_reduced, vocab, words)\n",
    "\n",
    "def plot_embeddings(m_reduced, vocab, words=None):\n",
    "    plt.figure(figsize=(10, 10))\n",
    "    \n",
    "    # Create a mapping from words to their indices\n",
    "    word_to_index = {word: i for i, word in enumerate(vocab)}\n",
    "    \n",
    "    # Filter the embeddings and words to plot only the specified words\n",
    "    if words is not None:\n",
    "        indices = [word_to_index[word] for word in words if word in word_to_index]\n",
    "        m_reduced = m_reduced[indices]\n",
    "        vocab = [vocab[i] for i in indices]\n",
    "    print(vocab)\n",
    "    # Plot the filtered embeddings\n",
    "    for i, word in enumerate(vocab):\n",
    "        x, y = m_reduced[i, 0], m_reduced[i, 1]\n",
    "        plt.scatter(x, y, color='blue', alpha=0.6)\n",
    "        plt.text(x + 0.02, y + 0.02, word, fontsize=9)\n",
    "    \n",
    "    plt.title(\"Word Embeddings in 2D Space\")\n",
    "    plt.xlabel(\"Dimension 1\")\n",
    "    plt.ylabel(\"Dimension 2\")\n",
    "    plt.grid(True)\n",
    "    plt.show()\n",
    "    \n",
    "words = ['the', 'jury', 'automobile', 'factory', 'actions', 'good', 'should', 'serve', 'city', 'officials']\n",
    "\n",
    "m_reduced = reduce_to_k_dim(co_matrix, k=2)\n",
    "\n",
    "plot_embeddings(m_reduced, vocab, words)"
   ]
  },
  {
   "cell_type": "markdown",
   "metadata": {},
   "source": [
    "## Prediction-Based Word Vectors\n",
    "In this section, we load pre-trained word vectors using the **GloVe** embeddings from the [Stanford NLP paper on GloVe](https://nlp.stanford.edu/pubs/glove.pdf). The pre-trained embeddings provide rich semantic information about words based on large text corpora, allowing us to represent words as vectors that capture their meaning and relationships.\n",
    "\n",
    "Steps:\n",
    "1. **Load GloVe Word Vectors**: We use the GloVe embeddings from the `glove-wiki-gigaword-200` model, which has 200-dimensional vectors for each word.\n",
    "2. **Vocabulary Matching**: We map the words from our corpus to the GloVe vocabulary and extract the corresponding vectors.\n",
    "3. **Dimensionality Reduction**: After obtaining the word vectors, we reduce the dimensionality to visualize the embeddings in 2D space, allowing us to explore word relationships visually.\n",
    "\n",
    "This is an excellent opportunity to explore how pre-trained embeddings like GloVe can be used to improve downstream NLP tasks by providing richer word representations."
   ]
  },
  {
   "cell_type": "code",
   "execution_count": 72,
   "metadata": {},
   "outputs": [
    {
     "name": "stdout",
     "output_type": "stream",
     "text": [
      "Loaded vocab size 400000\n",
      "rendering M based on wv\n",
      "rendering M based on unique_tokens\n"
     ]
    }
   ],
   "source": [
    "# Do not edit\n",
    "import gensim.downloader as api\n",
    "import numpy as np\n",
    "wv_from_bin = api.load(\"glove-wiki-gigaword-200\")\n",
    "print(\"Loaded vocab size %i\" % len(list(wv_from_bin.index_to_key)))\n",
    "flattened_list = [item for sublist in tokens for item in sublist]\n",
    "\n",
    "wv_words = list(wv_from_bin.index_to_key)\n",
    "unique_tokens = set(flattened_list)\n",
    "word2ind = {}\n",
    "M = []\n",
    "idx = 0\n",
    "print('rendering M based on wv')\n",
    "for w in wv_words:\n",
    "    try:\n",
    "        M.append(wv_from_bin.get_vector(w))\n",
    "        word2ind[w] = idx\n",
    "        idx += 1\n",
    "    except:\n",
    "        pass\n",
    "\n",
    "print('rendering M based on unique_tokens')\n",
    "for w in unique_tokens:\n",
    "    if w in wv_words:\n",
    "        continue\n",
    "    try:\n",
    "        M.append(wv_from_bin.get_vector(w))\n",
    "        word2ind[w] = idx\n",
    "        idx += 1\n",
    "    except:\n",
    "        pass\n",
    "M = np.stack(M)\n",
    "M_reduced = reduce_to_k_dim(M, k=2)\n",
    "\n",
    "M_lengths = np.linalg.norm(M_reduced, axis=1)\n",
    "M_reduced_normalized = M_reduced / M_lengths[:, np.newaxis]\n"
   ]
  },
  {
   "cell_type": "markdown",
   "metadata": {},
   "source": [
    "### Compare plots\n",
    "What stands out when comparing the two different ways of embedding using the given words?\n",
    "\n",
    "(Use this to help answer the question in your assignment document)."
   ]
  },
  {
   "cell_type": "code",
   "execution_count": 73,
   "metadata": {},
   "outputs": [
    {
     "ename": "TypeError",
     "evalue": "unhashable type: 'list'",
     "output_type": "error",
     "traceback": [
      "\u001b[0;31m---------------------------------------------------------------------------\u001b[0m",
      "\u001b[0;31mTypeError\u001b[0m                                 Traceback (most recent call last)",
      "\u001b[0;32m<ipython-input-73-c11f7d739354>\u001b[0m in \u001b[0;36m<module>\u001b[0;34m\u001b[0m\n\u001b[0;32m----> 1\u001b[0;31m \u001b[0mplot_embeddings\u001b[0m\u001b[0;34m(\u001b[0m\u001b[0mM_reduced_normalized\u001b[0m\u001b[0;34m,\u001b[0m \u001b[0mtokens\u001b[0m\u001b[0;34m)\u001b[0m\u001b[0;34m\u001b[0m\u001b[0;34m\u001b[0m\u001b[0m\n\u001b[0m",
      "\u001b[0;32m<ipython-input-71-10091f2a71a8>\u001b[0m in \u001b[0;36mplot_embeddings\u001b[0;34m(m_reduced, vocab, words)\u001b[0m\n\u001b[1;32m     24\u001b[0m \u001b[0;34m\u001b[0m\u001b[0m\n\u001b[1;32m     25\u001b[0m     \u001b[0;31m# Create a mapping from words to their indices\u001b[0m\u001b[0;34m\u001b[0m\u001b[0;34m\u001b[0m\u001b[0;34m\u001b[0m\u001b[0m\n\u001b[0;32m---> 26\u001b[0;31m     \u001b[0mword_to_index\u001b[0m \u001b[0;34m=\u001b[0m \u001b[0;34m{\u001b[0m\u001b[0mword\u001b[0m\u001b[0;34m:\u001b[0m \u001b[0mi\u001b[0m \u001b[0;32mfor\u001b[0m \u001b[0mi\u001b[0m\u001b[0;34m,\u001b[0m \u001b[0mword\u001b[0m \u001b[0;32min\u001b[0m \u001b[0menumerate\u001b[0m\u001b[0;34m(\u001b[0m\u001b[0mvocab\u001b[0m\u001b[0;34m)\u001b[0m\u001b[0;34m}\u001b[0m\u001b[0;34m\u001b[0m\u001b[0;34m\u001b[0m\u001b[0m\n\u001b[0m\u001b[1;32m     27\u001b[0m \u001b[0;34m\u001b[0m\u001b[0m\n\u001b[1;32m     28\u001b[0m     \u001b[0;31m# Filter the embeddings and words to plot only the specified words\u001b[0m\u001b[0;34m\u001b[0m\u001b[0;34m\u001b[0m\u001b[0;34m\u001b[0m\u001b[0m\n",
      "\u001b[0;32m<ipython-input-71-10091f2a71a8>\u001b[0m in \u001b[0;36m<dictcomp>\u001b[0;34m(.0)\u001b[0m\n\u001b[1;32m     24\u001b[0m \u001b[0;34m\u001b[0m\u001b[0m\n\u001b[1;32m     25\u001b[0m     \u001b[0;31m# Create a mapping from words to their indices\u001b[0m\u001b[0;34m\u001b[0m\u001b[0;34m\u001b[0m\u001b[0;34m\u001b[0m\u001b[0m\n\u001b[0;32m---> 26\u001b[0;31m     \u001b[0mword_to_index\u001b[0m \u001b[0;34m=\u001b[0m \u001b[0;34m{\u001b[0m\u001b[0mword\u001b[0m\u001b[0;34m:\u001b[0m \u001b[0mi\u001b[0m \u001b[0;32mfor\u001b[0m \u001b[0mi\u001b[0m\u001b[0;34m,\u001b[0m \u001b[0mword\u001b[0m \u001b[0;32min\u001b[0m \u001b[0menumerate\u001b[0m\u001b[0;34m(\u001b[0m\u001b[0mvocab\u001b[0m\u001b[0;34m)\u001b[0m\u001b[0;34m}\u001b[0m\u001b[0;34m\u001b[0m\u001b[0;34m\u001b[0m\u001b[0m\n\u001b[0m\u001b[1;32m     27\u001b[0m \u001b[0;34m\u001b[0m\u001b[0m\n\u001b[1;32m     28\u001b[0m     \u001b[0;31m# Filter the embeddings and words to plot only the specified words\u001b[0m\u001b[0;34m\u001b[0m\u001b[0;34m\u001b[0m\u001b[0;34m\u001b[0m\u001b[0m\n",
      "\u001b[0;31mTypeError\u001b[0m: unhashable type: 'list'"
     ]
    },
    {
     "data": {
      "text/plain": [
       "<Figure size 720x720 with 0 Axes>"
      ]
     },
     "metadata": {},
     "output_type": "display_data"
    }
   ],
   "source": [
    "plot_embeddings(M_reduced_normalized, tokens)\n"
   ]
  },
  {
   "cell_type": "markdown",
   "metadata": {},
   "source": [
    "### Words with multiple meanings\n",
    "Polysemes and homonyms are words that have more than one meaning (see [this wiki page](https://en.wikipedia.org/wiki/Polysemy) to learn more about the difference between polysemes and homonyms). Your task is to find a word with at least two different meanings such that the top-10 most similar words (according to cosine similarity) contain related words from both meanings.\n",
    "\n",
    "For example:\n",
    "- \"leaves\" has both the \"go_away\" and \"a_structure_of_a_plant\" meanings in the top 10.\n",
    "- \"scoop\" has both \"handed_waffle_cone\" and \"lowdown\" meanings in the top 10.\n",
    "\n",
    "You will probably need to try several polysemous or homonymic words before you find one.\n",
    "\n",
    "Once you discover a word that fits this criterion, state the word and explain the multiple meanings that occur in the top 10. Reflect on why many of the polysemous or homonymic words you tried didn’t work (i.e., why the top-10 most similar words only contain one of the word's meanings).\n",
    "\n",
    "**Note**: Use the `wv_from_bin.most_similar(word)` function to get the top 10 most similar words. This function ranks all other words in the vocabulary based on their cosine similarity to the given word. For further assistance, you can refer to the [Gensim documentation](https://radimrehurek.com/gensim/models/keyedvectors.html)."
   ]
  },
  {
   "cell_type": "code",
   "execution_count": null,
   "metadata": {},
   "outputs": [
    {
     "name": "stdout",
     "output_type": "stream",
     "text": [
      "Top-10 most similar words to 'leaves':\n",
      "ends: 0.6128067970275879\n",
      "leaf: 0.6027014255523682\n",
      "stems: 0.5998532176017761\n",
      "takes: 0.5902854204177856\n",
      "leaving: 0.5761634707450867\n",
      "grows: 0.5663397312164307\n",
      "flowers: 0.5600922107696533\n",
      "turns: 0.5536050796508789\n",
      "leave: 0.5496848821640015\n",
      "goes: 0.5434925556182861\n"
     ]
    }
   ],
   "source": [
    "\n",
    "word = \"leaves\"  # Replace with the word you want to test\n",
    "similar_words = wv_from_bin.most_similar(word, topn=10)\n",
    "\n",
    "print(f\"Top-10 most similar words to '{word}':\")\n",
    "for similar_word, similarity in similar_words:\n",
    "    print(f\"{similar_word}: {similarity}\")"
   ]
  },
  {
   "cell_type": "markdown",
   "metadata": {},
   "source": []
  },
  {
   "cell_type": "markdown",
   "metadata": {},
   "source": [
    "### Synonyms\n",
    "When considering **Cosine Similarity**, it's often useful to think of **Cosine Distance**, which is simply 1 - Cosine Similarity.\n",
    "\n",
    "Find three words \\( (w_1, w_2, w_3) \\) where:\n",
    "- \\(w_1\\) and \\(w_2\\) are **synonyms**.\n",
    "- \\(w_1\\) and \\(w_3\\) are **antonyms**.\n",
    "\n",
    "However, you need to find a case where **Cosine Distance** \\( (w_1, w_3) < \\text{Cosine Distance} (w_1, w_2) \\). In other words, the antonym is **closer** to the word than its synonym in the vector space.\n",
    "\n",
    "For example, \"happy\" (\\(w_1\\)) may be closer to \"sad\" (\\(w_3\\)) than to \"cheerful\" (\\(w_2\\)), which is counter-intuitive since we expect synonyms to be closer than antonyms. \n",
    "\n",
    "Once you find such an example, provide a possible explanation for why this result may have occurred.\n",
    "\n",
    "Use the `wv_from_bin.distance(w1, w2)` function to compute the cosine distance between two words. You can refer to the [Gensim documentation](https://radimrehurek.com/gensim/models/keyedvectors.html) for further assistance.\n",
    "\n",
    "\n",
    "\n",
    "\n",
    "\n"
   ]
  },
  {
   "cell_type": "code",
   "execution_count": null,
   "metadata": {},
   "outputs": [
    {
     "name": "stdout",
     "output_type": "stream",
     "text": [
      "Cosine Distance between 'happy' and 'cheerful' (synonyms): 0.5172466933727264\n",
      "Cosine Distance between 'happy' and 'sad' (antonyms): 0.4040136933326721\n"
     ]
    }
   ],
   "source": [
    "w_1 = \"happy\"  # Word 1\n",
    "w_2 = \"cheerful\"  # Synonym of w_1\n",
    "w_3 = \"sad\"  # Antonym of w_1\n",
    "\n",
    "dist_w1_w2 = wv_from_bin.distance(w_1, w_2)\n",
    "dist_w1_w3 = wv_from_bin.distance(w_1, w_3)\n",
    "\n",
    "print(f\"Cosine Distance between '{w_1}' and '{w_2}' (synonyms): {dist_w1_w2}\")\n",
    "print(f\"Cosine Distance between '{w_1}' and '{w_3}' (antonyms): {dist_w1_w3}\")"
   ]
  },
  {
   "cell_type": "markdown",
   "metadata": {},
   "source": [
    "### Analogies\n",
    "Word vectors have demonstrated the ability to solve analogies based on their learned semantic relationships. For instance, consider the analogy: \n",
    "\n",
    "**\"man : grandfather :: woman : x\"** \n",
    "\n",
    "(Read: man is to grandfather as woman is to x). Using word vectors, we can find the word \\(x\\) that completes the analogy.\n",
    "\n",
    "In the example provided, we use the `most_similar` function from the Gensim library. This function identifies words that are most similar to the words in the positive list and most dissimilar to those in the negative list. For analogy solving, it effectively computes:\n",
    "\n",
    "\\[ \\text{word}(x) = \\text{most similar to} (\\text{woman} + \\text{grandfather} - \\text{man}) \\]\n",
    "\n",
    "The result is the word with the highest cosine similarity to the target vector. You can use this approach to explore various analogies and gain insights into the semantic structure of word vectors.\n",
    "\n",
    "Refer to the [Gensim documentation](https://radimrehurek.com/gensim/models/keyedvectors.html) for more details on the `most_similar` function and how word vectors handle analogy-solving tasks."
   ]
  },
  {
   "cell_type": "code",
   "execution_count": null,
   "metadata": {},
   "outputs": [
    {
     "name": "stdout",
     "output_type": "stream",
     "text": [
      "[('grandmother', 0.7608445286750793), ('granddaughter', 0.7200808525085449), ('daughter', 0.7168302536010742), ('mother', 0.7151536345481873), ('niece', 0.7005682587623596), ('father', 0.6659887433052063), ('aunt', 0.6623408794403076), ('grandson', 0.6618767976760864), ('grandparents', 0.644661009311676), ('wife', 0.6445354223251343)]\n"
     ]
    }
   ],
   "source": [
    "# Run this cell to answer the analogy -- man : grandfather :: woman : x\n",
    "print(wv_from_bin.most_similar(positive=['woman', 'grandfather'], negative=['man']))"
   ]
  },
  {
   "cell_type": "markdown",
   "metadata": {},
   "source": [
    "### Bias in word vectors\n",
    "a. **Observation**: Consider the results of a word vector model when queried with analogies involving \"man\", \"woman\", and \"profession\". What are the top results returned by the model for each query?\n",
    "\n",
    "[Your Answer]\n",
    "\n",
    "b. **Analysis**: Do you observe any gender biases in the results? For example, are certain professions more closely associated with \"man\" or \"woman\" based on the word vectors? Discuss how word embeddings might perpetuate societal biases present in the training data.\n",
    "\n",
    "[Your Answer]\n",
    "\n",
    "c. **Reflection**: How might such biases affect the fairness of machine learning models that use word embeddings? Suggest potential strategies for mitigating gender bias in word vector models.\n",
    "\n",
    "[Your Answer]"
   ]
  },
  {
   "cell_type": "code",
   "execution_count": null,
   "metadata": {},
   "outputs": [
    {
     "name": "stdout",
     "output_type": "stream",
     "text": [
      "[('reputation', 0.5250176787376404), ('professions', 0.5178037881851196), ('skill', 0.49046966433525085), ('skills', 0.49005505442619324), ('ethic', 0.4897659420967102), ('business', 0.4875852167606354), ('respected', 0.485920250415802), ('practice', 0.482104629278183), ('regarded', 0.4778572618961334), ('life', 0.4760662019252777)]\n",
      "\n",
      "[('professions', 0.5957457423210144), ('practitioner', 0.49884122610092163), ('teaching', 0.48292139172554016), ('nursing', 0.48211804032325745), ('vocation', 0.4788965880870819), ('teacher', 0.47160351276397705), ('practicing', 0.46937814354896545), ('educator', 0.46524327993392944), ('physicians', 0.4628995358943939), ('professionals', 0.4601394236087799)]\n"
     ]
    }
   ],
   "source": [
    "print(wv_from_bin.most_similar(positive=['man', 'profession'], negative=['woman']))\n",
    "print()\n",
    "print(wv_from_bin.most_similar(positive=['woman', 'profession'], negative=['man']))"
   ]
  }
 ],
 "metadata": {
  "kernelspec": {
   "display_name": "base",
   "language": "python",
   "name": "python3"
  },
  "language_info": {
   "codemirror_mode": {
    "name": "ipython",
    "version": 3
   },
   "file_extension": ".py",
   "mimetype": "text/x-python",
   "name": "python",
   "nbconvert_exporter": "python",
   "pygments_lexer": "ipython3",
   "version": "3.8.5"
  }
 },
 "nbformat": 4,
 "nbformat_minor": 2
}
